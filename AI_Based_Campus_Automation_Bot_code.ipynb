{
  "nbformat": 4,
  "nbformat_minor": 0,
  "metadata": {
    "colab": {
      "provenance": [],
      "authorship_tag": "ABX9TyP2fdvz0ZgrPQ5SiBiouCvf",
      "include_colab_link": true
    },
    "kernelspec": {
      "name": "python3",
      "display_name": "Python 3"
    },
    "language_info": {
      "name": "python"
    },
    "widgets": {
      "application/vnd.jupyter.widget-state+json": {
        "a808dc47ecb848f6a0fcb838c68bd55d": {
          "model_module": "@jupyter-widgets/controls",
          "model_name": "DropdownModel",
          "model_module_version": "1.5.0",
          "state": {
            "_dom_classes": [],
            "_model_module": "@jupyter-widgets/controls",
            "_model_module_version": "1.5.0",
            "_model_name": "DropdownModel",
            "_options_labels": [
              "Select an option",
              "1. Show Class Schedule",
              "2. Campus News",
              "3. Faculty Contact",
              "4. Exit"
            ],
            "_view_count": null,
            "_view_module": "@jupyter-widgets/controls",
            "_view_module_version": "1.5.0",
            "_view_name": "DropdownView",
            "description": "Choose:",
            "description_tooltip": null,
            "disabled": false,
            "index": 0,
            "layout": "IPY_MODEL_58a532e9b720446a98f308d32b7beb6b",
            "style": "IPY_MODEL_eae11f5cc37e4233b7ebd64c8b59e70c"
          }
        },
        "58a532e9b720446a98f308d32b7beb6b": {
          "model_module": "@jupyter-widgets/base",
          "model_name": "LayoutModel",
          "model_module_version": "1.2.0",
          "state": {
            "_model_module": "@jupyter-widgets/base",
            "_model_module_version": "1.2.0",
            "_model_name": "LayoutModel",
            "_view_count": null,
            "_view_module": "@jupyter-widgets/base",
            "_view_module_version": "1.2.0",
            "_view_name": "LayoutView",
            "align_content": null,
            "align_items": null,
            "align_self": null,
            "border": null,
            "bottom": null,
            "display": null,
            "flex": null,
            "flex_flow": null,
            "grid_area": null,
            "grid_auto_columns": null,
            "grid_auto_flow": null,
            "grid_auto_rows": null,
            "grid_column": null,
            "grid_gap": null,
            "grid_row": null,
            "grid_template_areas": null,
            "grid_template_columns": null,
            "grid_template_rows": null,
            "height": null,
            "justify_content": null,
            "justify_items": null,
            "left": null,
            "margin": null,
            "max_height": null,
            "max_width": null,
            "min_height": null,
            "min_width": null,
            "object_fit": null,
            "object_position": null,
            "order": null,
            "overflow": null,
            "overflow_x": null,
            "overflow_y": null,
            "padding": null,
            "right": null,
            "top": null,
            "visibility": null,
            "width": "60%"
          }
        },
        "eae11f5cc37e4233b7ebd64c8b59e70c": {
          "model_module": "@jupyter-widgets/controls",
          "model_name": "DescriptionStyleModel",
          "model_module_version": "1.5.0",
          "state": {
            "_model_module": "@jupyter-widgets/controls",
            "_model_module_version": "1.5.0",
            "_model_name": "DescriptionStyleModel",
            "_view_count": null,
            "_view_module": "@jupyter-widgets/base",
            "_view_module_version": "1.2.0",
            "_view_name": "StyleView",
            "description_width": "initial"
          }
        },
        "668d13eaae41416780bcfb36713506fa": {
          "model_module": "@jupyter-widgets/output",
          "model_name": "OutputModel",
          "model_module_version": "1.0.0",
          "state": {
            "_dom_classes": [],
            "_model_module": "@jupyter-widgets/output",
            "_model_module_version": "1.0.0",
            "_model_name": "OutputModel",
            "_view_count": null,
            "_view_module": "@jupyter-widgets/output",
            "_view_module_version": "1.0.0",
            "_view_name": "OutputView",
            "layout": "IPY_MODEL_3698bc6117674db5a0a18c1c6eab1263",
            "msg_id": "",
            "outputs": []
          }
        },
        "3698bc6117674db5a0a18c1c6eab1263": {
          "model_module": "@jupyter-widgets/base",
          "model_name": "LayoutModel",
          "model_module_version": "1.2.0",
          "state": {
            "_model_module": "@jupyter-widgets/base",
            "_model_module_version": "1.2.0",
            "_model_name": "LayoutModel",
            "_view_count": null,
            "_view_module": "@jupyter-widgets/base",
            "_view_module_version": "1.2.0",
            "_view_name": "LayoutView",
            "align_content": null,
            "align_items": null,
            "align_self": null,
            "border": null,
            "bottom": null,
            "display": null,
            "flex": null,
            "flex_flow": null,
            "grid_area": null,
            "grid_auto_columns": null,
            "grid_auto_flow": null,
            "grid_auto_rows": null,
            "grid_column": null,
            "grid_gap": null,
            "grid_row": null,
            "grid_template_areas": null,
            "grid_template_columns": null,
            "grid_template_rows": null,
            "height": null,
            "justify_content": null,
            "justify_items": null,
            "left": null,
            "margin": null,
            "max_height": null,
            "max_width": null,
            "min_height": null,
            "min_width": null,
            "object_fit": null,
            "object_position": null,
            "order": null,
            "overflow": null,
            "overflow_x": null,
            "overflow_y": null,
            "padding": null,
            "right": null,
            "top": null,
            "visibility": null,
            "width": null
          }
        }
      }
    }
  },
  "cells": [
    {
      "cell_type": "markdown",
      "metadata": {
        "id": "view-in-github",
        "colab_type": "text"
      },
      "source": [
        "<a href=\"https://colab.research.google.com/github/Deepika4C69/AI-Based-Campus-Automation-Bot/blob/main/AI_Based_Campus_Automation_Bot_code.ipynb\" target=\"_parent\"><img src=\"https://colab.research.google.com/assets/colab-badge.svg\" alt=\"Open In Colab\"/></a>"
      ]
    },
    {
      "cell_type": "code",
      "execution_count": null,
      "metadata": {
        "colab": {
          "base_uri": "https://localhost:8080/",
          "height": 84,
          "referenced_widgets": [
            "a808dc47ecb848f6a0fcb838c68bd55d",
            "58a532e9b720446a98f308d32b7beb6b",
            "eae11f5cc37e4233b7ebd64c8b59e70c",
            "668d13eaae41416780bcfb36713506fa",
            "3698bc6117674db5a0a18c1c6eab1263"
          ]
        },
        "id": "MFzAkzJDYKL3",
        "outputId": "36cb3923-a0ab-4f2f-c63a-d36dd6ca57d8"
      },
      "outputs": [
        {
          "output_type": "stream",
          "name": "stdout",
          "text": [
            "Hi! I'm your Campus Automation Bot 🤖\n",
            "How can I assist you today?\n"
          ]
        },
        {
          "output_type": "display_data",
          "data": {
            "text/plain": [
              "Dropdown(description='Choose:', layout=Layout(width='60%'), options=(('Select an option', ''), ('1. Show Class…"
            ],
            "application/vnd.jupyter.widget-view+json": {
              "version_major": 2,
              "version_minor": 0,
              "model_id": "a808dc47ecb848f6a0fcb838c68bd55d"
            }
          },
          "metadata": {}
        },
        {
          "output_type": "display_data",
          "data": {
            "text/plain": [
              "Output()"
            ],
            "application/vnd.jupyter.widget-view+json": {
              "version_major": 2,
              "version_minor": 0,
              "model_id": "668d13eaae41416780bcfb36713506fa"
            }
          },
          "metadata": {}
        }
      ],
      "source": [
        "import ipywidgets as widgets\n",
        "from IPython.display import display, clear_output\n",
        "\n",
        "# Data\n",
        "schedule = {\n",
        "    \"Monday\": \"9AM - Math, 11AM - Physics, 2PM - Programming\",\n",
        "    \"Tuesday\": \"10AM - English, 12PM - Electronics\",\n",
        "    \"Wednesday\": \"9AM - Programming, 1PM - Lab\",\n",
        "    \"Thursday\": \"10AM - Communication Skills, 2PM - Seminar\",\n",
        "    \"Friday\": \"9AM - Engineering Drawing, 12PM - Physics\"\n",
        "}\n",
        "\n",
        "contacts = {\n",
        "    \"Dr. Sharma\": \"sharma@university.edu\",\n",
        "    \"Prof. Ramesh\": \"ramesh@university.edu\",\n",
        "    \"Ms. Priya\": \"priya@university.edu\"\n",
        "}\n",
        "\n",
        "# Widgets\n",
        "menu = widgets.Dropdown(\n",
        "    options=[\n",
        "        ('Select an option', ''),\n",
        "        ('1. Show Class Schedule', '1'),\n",
        "        ('2. Campus News', '2'),\n",
        "        ('3. Faculty Contact', '3'),\n",
        "        ('4. Exit', '4')\n",
        "    ],\n",
        "    description='Choose:',\n",
        "    style={'description_width': 'initial'},\n",
        "    layout=widgets.Layout(width='60%')\n",
        ")\n",
        "\n",
        "output_box = widgets.Output()\n",
        "\n",
        "# Actions\n",
        "def show_schedule():\n",
        "    with output_box:\n",
        "        clear_output()\n",
        "        print(\"📅 Class Schedule\")\n",
        "        day_selector = widgets.Dropdown(options=list(schedule.keys()), description='Day:')\n",
        "        confirm_button = widgets.Button(description=\"Show Schedule\")\n",
        "\n",
        "        def on_confirm_clicked(b):\n",
        "            clear_output()\n",
        "            print(f\"Schedule for {day_selector.value}:\")\n",
        "            print(schedule[day_selector.value])\n",
        "            display(menu)\n",
        "\n",
        "        confirm_button.on_click(on_confirm_clicked)\n",
        "        display(day_selector, confirm_button)\n",
        "\n",
        "def campus_news():\n",
        "    with output_box:\n",
        "        clear_output()\n",
        "        print(\"\\n📢 Campus News:\")\n",
        "        print(\"- Mid-semester exams start next Monday.\")\n",
        "        print(\"- TechFest registrations open!\")\n",
        "        print(\"- Library will be closed on Friday.\\n\")\n",
        "        display(menu)\n",
        "\n",
        "def faculty_contact():\n",
        "    with output_box:\n",
        "        clear_output()\n",
        "        print(\"👨‍🏫 Faculty Contact Info\")\n",
        "        faculty_selector = widgets.Dropdown(options=list(contacts.keys()), description='Faculty:')\n",
        "        confirm_button = widgets.Button(description=\"Get Contact\")\n",
        "\n",
        "        def on_confirm_clicked(b):\n",
        "            clear_output()\n",
        "            name = faculty_selector.value\n",
        "            print(f\"Contact for {name}: {contacts[name]}\")\n",
        "            display(menu)\n",
        "\n",
        "        confirm_button.on_click(on_confirm_clicked)\n",
        "        display(faculty_selector, confirm_button)\n",
        "\n",
        "def on_menu_change(change):\n",
        "    if change['new'] == '':\n",
        "        return\n",
        "    choice = change['new']\n",
        "    if choice == '1':\n",
        "        show_schedule()\n",
        "    elif choice == '2':\n",
        "        campus_news()\n",
        "    elif choice == '3':\n",
        "        faculty_contact()\n",
        "    elif choice == '4':\n",
        "        with output_box:\n",
        "            clear_output()\n",
        "            print(\"Goodbye! Have a great day! 👋\")\n",
        "        menu.disabled = True  # Prevent further input\n",
        "\n",
        "menu.observe(on_menu_change, names='value')\n",
        "\n",
        "# Launch Bot\n",
        "print(\"Hi! I'm your Campus Automation Bot 🤖\")\n",
        "print(\"How can I assist you today?\")\n",
        "display(menu, output_box)"
      ]
    }
  ]
}